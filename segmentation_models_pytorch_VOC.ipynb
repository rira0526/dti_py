{
  "nbformat": 4,
  "nbformat_minor": 0,
  "metadata": {
    "colab": {
      "provenance": [],
      "gpuType": "T4",
      "include_colab_link": true
    },
    "kernelspec": {
      "name": "python3",
      "display_name": "Python 3"
    },
    "language_info": {
      "name": "python"
    },
    "accelerator": "GPU",
    "gpuClass": "standard"
  },
  "cells": [
    {
      "cell_type": "markdown",
      "metadata": {
        "id": "view-in-github",
        "colab_type": "text"
      },
      "source": [
        "<a href=\"https://colab.research.google.com/github/rira0526/dti_py/blob/main/segmentation_models_pytorch_VOC.ipynb\" target=\"_parent\"><img src=\"https://colab.research.google.com/assets/colab-badge.svg\" alt=\"Open In Colab\"/></a>"
      ]
    },
    {
      "cell_type": "markdown",
      "source": [
        "# インポート"
      ],
      "metadata": {
        "id": "3APGZzqoYVhW"
      }
    },
    {
      "cell_type": "code",
      "execution_count": null,
      "metadata": {
        "id": "PULiV7w9FZOB"
      },
      "outputs": [],
      "source": [
        "# 必要なライブラリのinstall\n",
        "%%capture\n",
        "!pip install opencv-python-headless==4.1.2.30\n",
        "!pip install -U git+https://github.com/albu/albumentations --no-cache-dir\n",
        "!pip install segmentation-models-pytorch==0.2.1"
      ]
    },
    {
      "cell_type": "code",
      "source": [
        "import os\n",
        "import tarfile\n",
        "import urllib.request\n",
        "\n",
        "import albumentations as albu\n",
        "import matplotlib.pyplot as plt\n",
        "import numpy as np\n",
        "import segmentation_models_pytorch as smp\n",
        "import torch\n",
        "import torch.utils.data as data\n",
        "from PIL import Image"
      ],
      "metadata": {
        "id": "tYw-GTu_QVFK"
      },
      "execution_count": null,
      "outputs": []
    },
    {
      "cell_type": "markdown",
      "source": [
        "# VOCデータのDL"
      ],
      "metadata": {
        "id": "KkkVNplRYX6c"
      }
    },
    {
      "cell_type": "code",
      "source": [
        "from google.colab import drive\n",
        "drive.mount('/gdrive')"
      ],
      "metadata": {
        "id": "RIZVHQDd9Jnt",
        "outputId": "d9ac5bae-1bec-43f0-f6aa-1c5fbdf398bc",
        "colab": {
          "base_uri": "https://localhost:8080/"
        }
      },
      "execution_count": null,
      "outputs": [
        {
          "output_type": "stream",
          "name": "stdout",
          "text": [
            "Drive already mounted at /gdrive; to attempt to forcibly remount, call drive.mount(\"/gdrive\", force_remount=True).\n"
          ]
        }
      ]
    },
    {
      "cell_type": "code",
      "source": [
        "# 使用データのDL\n",
        "data_dir = \"/gdrive/MyDrive/zikken3/multiclass segmentation\"\n",
        "if not os.path.exists(data_dir):\n",
        "    print(\"data_dir not exitst\")\n",
        "    os.mkdir(data_dir)\n",
        "\n",
        "# url = \"http://host.robots.ox.ac.uk/pascal/VOC/voc2012/VOCtrainval_11-May-2012.tar\"\n",
        "# target_path = os.path.join(data_dir, \"VOCtrainval_11-May-2012.tar\") \n",
        "\n",
        "# if not os.path.exists(target_path):\n",
        "#     urllib.request.urlretrieve(url, target_path)\n",
        "#     tar = tarfile.TarFile(target_path)\n",
        "#     tar.extractall(data_dir)\n",
        "#     tar.close()"
      ],
      "metadata": {
        "id": "RneXk8LZQY3j"
      },
      "execution_count": null,
      "outputs": []
    },
    {
      "cell_type": "markdown",
      "source": [
        "# augmentation、前処理関連の関数定義"
      ],
      "metadata": {
        "id": "YbKpUDOui_fz"
      }
    },
    {
      "cell_type": "code",
      "source": [
        "def get_augmentation(phase):\n",
        "    if phase == \"train\":\n",
        "        train_transform = [\n",
        "            albu.HorizontalFlip(p=0.5),\n",
        "            albu.ShiftScaleRotate(scale_limit=0.5, rotate_limit=0, shift_limit=0.1, p=1, border_mode=0),\n",
        "            albu.RandomBrightnessContrast()\n",
        "        ]\n",
        "        return albu.Compose(train_transform)\n",
        "\n",
        "    if phase==\"valid\":\n",
        "        return None\n",
        "\n",
        "def to_tensor(x, **kwargs):\n",
        "    return x.transpose(2, 0, 1).astype(\"float32\")\n",
        "\n",
        "def get_preprocessing(preprocessing_fn):\n",
        "    _transform = [\n",
        "        albu.Lambda(image=preprocessing_fn),\n",
        "        albu.Lambda(image=to_tensor, mask=to_tensor),\n",
        "    ]\n",
        "    return albu.Compose(_transform)\n",
        "\n",
        "def crop_to_square(image):\n",
        "    size = min(image.size)\n",
        "    left, upper = (image.width - size) // 2, (image.height - size) // 2\n",
        "    right, bottom = (image.width + size) // 2, (image.height + size) // 2\n",
        "    return image.crop((left, upper, right, bottom))"
      ],
      "metadata": {
        "id": "jzkycJIYRWC5"
      },
      "execution_count": null,
      "outputs": []
    },
    {
      "cell_type": "markdown",
      "source": [
        "# Datasetの定義"
      ],
      "metadata": {
        "id": "U4yiZhXhjDzF"
      }
    },
    {
      "cell_type": "code",
      "source": [
        "class VOCDataset(data.Dataset):\n",
        "\n",
        "    # VOCデータセットのクラス名\n",
        "    # http://host.robots.ox.ac.uk/pascal/VOC/voc2012/segexamples/index.html\n",
        "    CLASSES = [\"background\",\"nerve\",\"spinal\"]\n",
        "\n",
        "    def __init__(self, images_path, masks_path, segment_class, \n",
        "                 augmentation=None, preprocessing=None):\n",
        "\n",
        "        self.images_path = images_path\n",
        "        self.masks_path = masks_path\n",
        "        self.segment_class = segment_class\n",
        "        self.augmentation = augmentation\n",
        "        self.preprocessing = preprocessing\n",
        "\n",
        "    def __len__(self):\n",
        "        return len(self.images_path)\n",
        "\n",
        "    def __getitem__(self, i):\n",
        "\n",
        "        # 元画像の読み込み、整形\n",
        "        image = Image.open(self.images_path[i])\n",
        "        image = crop_to_square(image)\n",
        "        image = image.resize((128,128), Image.ANTIALIAS)\n",
        "        image = np.asarray(image)\n",
        "\n",
        "        # maskの読み込み、整形\n",
        "        \n",
        "        masks = Image.open(self.masks_path[i])\n",
        "        masks = crop_to_square(masks)\n",
        "        masks = masks.resize((128,128), Image.ANTIALIAS)\n",
        "        masks = np.asarray(masks)\n",
        "\n",
        "        # maskデータの境界線を表す255は扱いにくいので21に変換\n",
        "        masks = np.where(masks == 255, 21, masks)\n",
        "\n",
        "        # maskデータを正解ラベル毎の1hotに変換\n",
        "        cls_idx = [self.CLASSES.index(cls) for cls in self.segment_class]\n",
        "        masks = [(masks == idx) for idx in cls_idx]\n",
        "        mask = np.stack(masks, axis=-1).astype(\"float\")\n",
        "\n",
        "        # augmentationの実行\n",
        "        if self.augmentation:\n",
        "            sample = self.augmentation(image=image, mask=mask)\n",
        "            image, mask = sample[\"image\"], sample[\"mask\"]\n",
        "\n",
        "        # 前処理の実行\n",
        "        if self.preprocessing:\n",
        "            sample = self.preprocessing(image=image, mask=mask)\n",
        "            image, mask = sample[\"image\"], sample[\"mask\"]\n",
        "\n",
        "        return image, mask"
      ],
      "metadata": {
        "id": "ar-_WIJJRwwq"
      },
      "execution_count": null,
      "outputs": []
    },
    {
      "cell_type": "markdown",
      "source": [
        "# モデル定義"
      ],
      "metadata": {
        "id": "Czle8PH4jIqW"
      }
    },
    {
      "cell_type": "code",
      "source": [
        "# モデルの各種設定\n",
        "ENCODER = \"efficientnet-b4\"\n",
        "ENCODER_WEIGHTS = \"imagenet\"\n",
        "ACTIVATION = \"softmax2d\"\n",
        "PREDICT_CLASS = [\"nerve\", \"spinal\"]\n",
        "DEVICE = \"cuda\"\n",
        "BATCH_SIZE = 8\n",
        "\n",
        "# Unet++でモデル作成\n",
        "model = smp.Unet(\n",
        "    encoder_name=ENCODER, \n",
        "    encoder_weights=ENCODER_WEIGHTS, \n",
        "    classes=len(PREDICT_CLASS), \n",
        "    activation=ACTIVATION,\n",
        ")"
      ],
      "metadata": {
        "id": "Xj5GAYzrR3Q5"
      },
      "execution_count": null,
      "outputs": []
    },
    {
      "cell_type": "markdown",
      "source": [
        "# モデリングで使用するデータ周りの作成"
      ],
      "metadata": {
        "id": "YJ9XNhVVjLOS"
      }
    },
    {
      "cell_type": "code",
      "source": [
        "import glob\n",
        "# encoderに合わせた前処理の取得\n",
        "preprocessing_fn = smp.encoders.get_preprocessing_fn(ENCODER, ENCODER_WEIGHTS)\n",
        "train_img_file = glob.glob(f\"/gdrive/MyDrive/zikken3/multiclass segmentation/images/training/*.png\")\n",
        "train_mask_file = glob.glob(f\"/gdrive/MyDrive/zikken3/multiclass segmentation/annotations/training/*.png\")\n",
        "val_img_file = glob.glob(f\"/gdrive/MyDrive/zikken3/multiclass segmentation/images/validation/*.png\")\n",
        "val_mask_file = glob.glob(f\"/gdrive/MyDrive/zikken3/multiclass segmentation/annotations/validation/*.png\")\n",
        "# データ周りを格納する辞書\n",
        "data_info = {}\n",
        "rootpath = r\"/gdrive/MyDrive/zikken3/multiclass segmentation\"\n",
        "\n",
        "for phase in [\"train\", \"val\"]:\n",
        "    # 画像のpath\n",
        "    id_names = rootpath + rf\"ImageSets/Segmentation/{phase}.txt\"\n",
        "    exec_command = 'data_info[f\"{phase}_img_path\"] = ' + str(phase) + '_img_file'\n",
        "    exec(exec_command)\n",
        "    exec_command = 'data_info[f\"{phase}_mask_path\"] = ' + str(phase) + '_mask_file'\n",
        "    exec(exec_command)\n",
        "\n",
        "    # print(data_info[\"train_img_path\"][0])\n",
        "\n",
        "\n",
        "    \n",
        "    # data_info[f\"{phase}_img_path\"] = [rootpath + rf\"JPEGImages/{file.strip()}.jpg\" for file in open(id_names)]\n",
        "    # data_info[f\"{phase}_mask_path\"] = [rootpath + rf\"SegmentationClass/{file.strip()}.png\" for file in open(id_names)]\n",
        "\n",
        "    # Dataset\n",
        "    data_info[f\"{phase}_dataset\"] = VOCDataset(\n",
        "            data_info[f\"{phase}_img_path\"], \n",
        "            data_info[f\"{phase}_mask_path\"], \n",
        "            segment_class=PREDICT_CLASS,\n",
        "            augmentation=get_augmentation(phase), \n",
        "            preprocessing=get_preprocessing(preprocessing_fn)\n",
        "            )\n",
        "\n",
        "    # DataLoader\n",
        "    shuffle = True if phase==\"train\" else False\n",
        "    data_info[f\"{phase}_dataloader\"] = data.DataLoader(\n",
        "        data_info[f\"{phase}_dataset\"], \n",
        "        batch_size=BATCH_SIZE, \n",
        "        shuffle=shuffle)"
      ],
      "metadata": {
        "id": "OQGPy0qycPzw"
      },
      "execution_count": null,
      "outputs": []
    },
    {
      "cell_type": "code",
      "source": [
        "print(len(data_info[\"train_img_path\"]))\n",
        "print(len(data_info[\"train_mask_path\"]))\n",
        "print(len(data_info[\"val_img_path\"]))\n",
        "print(len(data_info[\"val_mask_path\"]))"
      ],
      "metadata": {
        "colab": {
          "base_uri": "https://localhost:8080/"
        },
        "id": "BQt7KVGje-3B",
        "outputId": "40247a17-24e8-4dce-8222-34418db64fdd"
      },
      "execution_count": null,
      "outputs": [
        {
          "output_type": "stream",
          "name": "stdout",
          "text": [
            "537\n",
            "537\n",
            "131\n",
            "131\n"
          ]
        }
      ]
    },
    {
      "cell_type": "code",
      "source": [
        "# import glob\n",
        "# data_info = {}\n",
        "# training_img_file = glob.glob(f\"/gdrive/MyDrive/zikken3/multiclass segmentation/images/training/*.png\")\n",
        "# training_mask_file = glob.glob(f\"/gdrive/MyDrive/zikken3/multiclass segmentation/annotation/training/*.png\")\n",
        "# validation_image_file = glob.glob(f\"/gdrive/MyDrive/zikken3/multiclass segmentation/images/validation/*.png\")\n",
        "# validation_mask_file = glob.glob(f\"/gdrive/MyDrive/zikken3/multiclass segmentation/annotation/validation/*.png\")\n",
        "# # print(t[0])\n",
        "# for i in range(len(training_img_file)):\n",
        "#   data_info[\"train_img_path\"][i] = training_img_file[i]\n",
        "#   data_info[\"train_mask_path\"][i] = training_mask_file[i]\n",
        "\n",
        "# for i in range(len(validation_image_file)):\n",
        "#   data_info[f\"val_img_path\"][i] = validation_image_file[i]\n",
        "#   data_info[f\"val_mask_file\"][i] = validation_mask_file[i]\n",
        "\n"
      ],
      "metadata": {
        "id": "wDLa2yyNsYJb"
      },
      "execution_count": null,
      "outputs": []
    },
    {
      "cell_type": "markdown",
      "source": [
        "# 学習の設定、実行"
      ],
      "metadata": {
        "id": "w8mVih8JjQ-b"
      }
    },
    {
      "cell_type": "code",
      "source": [
        "# 学習時の各種設定\n",
        "loss = smp.utils.losses.DiceLoss()\n",
        "metrics = [smp.utils.metrics.IoU(threshold=0.5)]\n",
        "optimizer = torch.optim.Adam([dict(params=model.parameters(), lr=0.0001)])\n",
        "\n",
        "train_epoch = smp.utils.train.TrainEpoch(\n",
        "    model, \n",
        "    loss=loss, \n",
        "    metrics=metrics, \n",
        "    optimizer=optimizer,\n",
        "    device=DEVICE\n",
        ")\n",
        "\n",
        "valid_epoch = smp.utils.train.ValidEpoch(\n",
        "    model, \n",
        "    loss=loss, \n",
        "    metrics=metrics, \n",
        "    device=DEVICE\n",
        ")"
      ],
      "metadata": {
        "id": "HCMWEkFXcRTx"
      },
      "execution_count": null,
      "outputs": []
    },
    {
      "cell_type": "code",
      "source": [
        "patience = 5 # 5Epcoch以上連続でモデル精度が向上しなければEarly Stopping\n",
        "\n",
        "max_score = 0\n",
        "for i in range(50):\n",
        "    \n",
        "    print(f\"Epoch:{i+1}\")\n",
        "    train_logs = train_epoch.run(data_info[\"train_dataloader\"])\n",
        "    valid_logs = valid_epoch.run(data_info[\"val_dataloader\"])\n",
        "    \n",
        "    # IoUスコアが最高値が更新されればモデルを保存\n",
        "    if max_score < valid_logs[\"iou_score\"]:\n",
        "        max_score = valid_logs[\"iou_score\"]\n",
        "        torch.save(model, \"./best_model.pth\")\n",
        "        print(\"Model saved!\")\n",
        "        early_stop_counter = 0\n",
        "\n",
        "    else:\n",
        "        early_stop_counter += 1\n",
        "        print(f\"not improve for {early_stop_counter}Epoch\")\n",
        "        if early_stop_counter==patience:\n",
        "            print(f\"early stop. Max Score {max_score}\")\n",
        "            break\n",
        "\n",
        "    # 適当なタイミングでlearning rateの変更\n",
        "    if i == 10:\n",
        "        optimizer.param_groups[0][\"lr\"] = 1e-5\n",
        "        print(\"Decrease decoder learning rate to 1e-5\")\n"
      ],
      "metadata": {
        "id": "WmAFARpOcThq",
        "outputId": "05bed25a-5e1a-4fff-ed72-5b1fbba89423",
        "colab": {
          "base_uri": "https://localhost:8080/"
        }
      },
      "execution_count": null,
      "outputs": [
        {
          "output_type": "stream",
          "name": "stdout",
          "text": [
            "Epoch:1\n",
            "train: 100%|██████████| 68/68 [00:19<00:00,  3.53it/s, dice_loss - 0.9966, iou_score - 0.001748]\n",
            "valid: 100%|██████████| 17/17 [00:01<00:00, 10.16it/s, dice_loss - 0.9964, iou_score - 0.001866]\n",
            "Model saved!\n",
            "Epoch:2\n",
            "train: 100%|██████████| 68/68 [00:12<00:00,  5.65it/s, dice_loss - 0.9965, iou_score - 0.001767]\n",
            "valid: 100%|██████████| 17/17 [00:01<00:00, 10.35it/s, dice_loss - 0.9962, iou_score - 0.001902]\n",
            "Model saved!\n",
            "Epoch:3\n",
            "train: 100%|██████████| 68/68 [00:11<00:00,  5.69it/s, dice_loss - 0.9964, iou_score - 0.001791]\n",
            "valid: 100%|██████████| 17/17 [00:01<00:00, 10.65it/s, dice_loss - 0.996, iou_score - 0.001925]\n",
            "Model saved!\n",
            "Epoch:4\n",
            "train: 100%|██████████| 68/68 [00:11<00:00,  5.79it/s, dice_loss - 0.9961, iou_score - 0.001971]\n",
            "valid: 100%|██████████| 17/17 [00:01<00:00,  9.60it/s, dice_loss - 0.9959, iou_score - 0.002041]\n",
            "Model saved!\n",
            "Epoch:5\n",
            "train: 100%|██████████| 68/68 [00:11<00:00,  5.75it/s, dice_loss - 0.9957, iou_score - 0.002192]\n",
            "valid: 100%|██████████| 17/17 [00:01<00:00, 10.51it/s, dice_loss - 0.9954, iou_score - 0.002322]\n",
            "Model saved!\n",
            "Epoch:6\n",
            "train: 100%|██████████| 68/68 [00:11<00:00,  5.75it/s, dice_loss - 0.9959, iou_score - 0.00209]\n",
            "valid: 100%|██████████| 17/17 [00:01<00:00, 10.47it/s, dice_loss - 0.9954, iou_score - 0.002291]\n",
            "not improve for 1Epoch\n",
            "Epoch:7\n",
            "train: 100%|██████████| 68/68 [00:11<00:00,  5.77it/s, dice_loss - 0.9955, iou_score - 0.002285]\n",
            "valid: 100%|██████████| 17/17 [00:01<00:00, 10.13it/s, dice_loss - 0.9955, iou_score - 0.002286]\n",
            "not improve for 2Epoch\n",
            "Epoch:8\n",
            "train: 100%|██████████| 68/68 [00:11<00:00,  5.81it/s, dice_loss - 0.9955, iou_score - 0.002287]\n",
            "valid: 100%|██████████| 17/17 [00:02<00:00,  6.86it/s, dice_loss - 0.9956, iou_score - 0.0022]\n",
            "not improve for 3Epoch\n",
            "Epoch:9\n",
            "train: 100%|██████████| 68/68 [00:12<00:00,  5.57it/s, dice_loss - 0.9954, iou_score - 0.002314]\n",
            "valid: 100%|██████████| 17/17 [00:01<00:00, 10.89it/s, dice_loss - 0.9953, iou_score - 0.002387]\n",
            "Model saved!\n",
            "Epoch:10\n",
            "train: 100%|██████████| 68/68 [00:11<00:00,  5.74it/s, dice_loss - 0.9955, iou_score - 0.002248]\n",
            "valid: 100%|██████████| 17/17 [00:01<00:00, 10.56it/s, dice_loss - 0.9951, iou_score - 0.002442]\n",
            "Model saved!\n",
            "Epoch:11\n",
            "train: 100%|██████████| 68/68 [00:11<00:00,  5.71it/s, dice_loss - 0.9954, iou_score - 0.002323]\n",
            "valid: 100%|██████████| 17/17 [00:01<00:00, 10.63it/s, dice_loss - 0.9954, iou_score - 0.002325]\n",
            "not improve for 1Epoch\n",
            "Decrease decoder learning rate to 1e-5\n",
            "Epoch:12\n",
            "train: 100%|██████████| 68/68 [00:11<00:00,  5.76it/s, dice_loss - 0.9957, iou_score - 0.002163]\n",
            "valid: 100%|██████████| 17/17 [00:01<00:00, 10.09it/s, dice_loss - 0.9952, iou_score - 0.002405]\n",
            "not improve for 2Epoch\n",
            "Epoch:13\n",
            "train: 100%|██████████| 68/68 [00:12<00:00,  5.50it/s, dice_loss - 0.9955, iou_score - 0.002241]\n",
            "valid: 100%|██████████| 17/17 [00:02<00:00,  6.32it/s, dice_loss - 0.9952, iou_score - 0.002431]\n",
            "not improve for 3Epoch\n",
            "Epoch:14\n",
            "train: 100%|██████████| 68/68 [00:11<00:00,  5.81it/s, dice_loss - 0.9954, iou_score - 0.002299]\n",
            "valid: 100%|██████████| 17/17 [00:01<00:00,  8.63it/s, dice_loss - 0.9952, iou_score - 0.002429]\n",
            "not improve for 4Epoch\n",
            "Epoch:15\n",
            "train: 100%|██████████| 68/68 [00:11<00:00,  5.90it/s, dice_loss - 0.9954, iou_score - 0.002302]\n",
            "valid: 100%|██████████| 17/17 [00:01<00:00,  8.62it/s, dice_loss - 0.9952, iou_score - 0.002417]\n",
            "not improve for 5Epoch\n",
            "early stop. Max Score 0.0024421746801475395\n"
          ]
        }
      ]
    },
    {
      "cell_type": "markdown",
      "source": [
        "# 推論と可視化による検証"
      ],
      "metadata": {
        "id": "PFuwROlXjZdO"
      }
    },
    {
      "cell_type": "code",
      "source": [
        "# モデルのロード\n",
        "best_model = torch.load(\"./best_model.pth\")\n",
        "best_model.eval()\n",
        "\n",
        "# 可視化用のpalette取得\n",
        "image_sample_palette = Image.open(data_info[\"val_mask_path\"][0])\n",
        "PALETTE = image_sample_palette.getpalette()"
      ],
      "metadata": {
        "id": "cMRxz6e2c3Vt"
      },
      "execution_count": null,
      "outputs": []
    },
    {
      "cell_type": "code",
      "source": [
        "# 検証データから\"cat\",\"person\"を含む画像を取得\n",
        "idx_dict = {\"nerve root\":[],\"spinal canal\":[],\"both\":[]}\n",
        "\n",
        "# 該当の対象物があればpathをリストに加える\n",
        "for i, path in enumerate(data_info[\"val_mask_path\"]):\n",
        "\n",
        "    img = np.asarray(Image.open(path))\n",
        "    unique_class = np.unique(img)\n",
        "\n",
        "    if 8 in unique_class and 15 in unique_class:\n",
        "        idx_dict[\"both\"].append(i)\n",
        "        \n",
        "    elif 8 in unique_class:\n",
        "        idx_dict[\"nerve root\"].append(i)\n",
        "        \n",
        "    elif 15 in unique_class:\n",
        "        idx_dict[\"spinal canal\"].append(i)"
      ],
      "metadata": {
        "id": "aJbFWYOpc6Zd"
      },
      "execution_count": null,
      "outputs": []
    },
    {
      "cell_type": "code",
      "source": [
        "# 検証用の関数を作成\n",
        "def check_prediction(n):\n",
        "\n",
        "    # 前処理後の画像とmaskデータを取得\n",
        "    img, mask = data_info[\"val_dataset\"][n]\n",
        "\n",
        "    fig, ax = plt.subplots(1, 3, tight_layout=True)\n",
        "    \n",
        "    # 前処理後の画像を表示\n",
        "    ax[0].imshow(img.transpose(1,2,0))\n",
        "\n",
        "    # DataloaderのmaskはOne-Hotになっているので元に戻してパレット変換\n",
        "    mask = np.argmax(mask, axis=0)\n",
        "    mask = Image.fromarray(np.uint8(mask), mode=\"P\")\n",
        "    mask.putpalette(PALETTE)\n",
        "    ax[1].imshow(mask)\n",
        "\n",
        "    # 推論結果の表示    \n",
        "    x = torch.tensor(img).unsqueeze(0) # 推論のためミニバッチ化：torch.Size([1, 3, 128, 128])\n",
        "\n",
        "    # 推論結果は各maskごとの確率、最大値をその画素の推論値とする\n",
        "    y = best_model(x.to(DEVICE))\n",
        "    y = y[0].cpu().detach().numpy()\n",
        "    y = np.argmax(y, axis=0)\n",
        "\n",
        "    # パレット変換後に表示\n",
        "    predict_class_img = Image.fromarray(np.uint8(y), mode=\"P\")\n",
        "    predict_class_img.putpalette(PALETTE)\n",
        "    ax[2].imshow(predict_class_img)\n",
        "\n",
        "    plt.show()"
      ],
      "metadata": {
        "id": "K8WNZkLnc761"
      },
      "execution_count": null,
      "outputs": []
    },
    {
      "cell_type": "code",
      "source": [
        "# ラベル毎に実行して結果を確認\n",
        "for label, idx_list in idx_dict.items():\n",
        "    print(\"=\"*30 , label, \"=\"*30)\n",
        "    for i, idx in enumerate(idx_list):\n",
        "        check_prediction(idx)\n",
        "        if i==2:\n",
        "            break"
      ],
      "metadata": {
        "id": "kbHh2aXGdQJ-",
        "colab": {
          "base_uri": "https://localhost:8080/"
        },
        "outputId": "0b8b695e-7c6e-4c91-f241-79ce2f4610fd"
      },
      "execution_count": null,
      "outputs": [
        {
          "output_type": "stream",
          "name": "stdout",
          "text": [
            "============================== nerve root ==============================\n",
            "============================== spinal canal ==============================\n",
            "============================== both ==============================\n"
          ]
        }
      ]
    },
    {
      "cell_type": "code",
      "source": [],
      "metadata": {
        "id": "EydViwGodSI1"
      },
      "execution_count": null,
      "outputs": []
    }
  ]
}